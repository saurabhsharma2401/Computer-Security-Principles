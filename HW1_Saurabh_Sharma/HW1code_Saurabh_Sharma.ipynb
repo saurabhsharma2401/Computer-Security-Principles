{
  "metadata": {
    "kernelspec": {
      "name": "python",
      "display_name": "Python (Pyodide)",
      "language": "python"
    },
    "language_info": {
      "codemirror_mode": {
        "name": "python",
        "version": 3
      },
      "file_extension": ".py",
      "mimetype": "text/x-python",
      "name": "python",
      "nbconvert_exporter": "python",
      "pygments_lexer": "ipython3",
      "version": "3.8"
    }
  },
  "nbformat_minor": 4,
  "nbformat": 4,
  "cells": [
    {
      "cell_type": "code",
      "source": "def letterferq(opdictionary, file, mode):\n    while True:\n        #it reads x letters at a time, specified by the mode.\n        value = file.read(mode)\n        if not value:\n            break\n        if value.isalpha():\n            value = value.lower().decode(\"utf-8\")\n            if value in opdictionary:\n                opdictionary[value] += 1\n            else:\n                opdictionary[value] = 1\n    return gram_dict\ndef calculate(file_input, gram_no,result):\n    dictionary = {}\n   \n    file_input.seek(0,0) \n    result = letterfreq(result,file_input,gram_no)\n    result = dict(sorted(result.items(),key= lambda char: char[1],reverse = True))\n    return result\n        ",
      "metadata": {
        "trusted": true
      },
      "execution_count": 10,
      "outputs": []
    },
    {
      "cell_type": "code",
      "source": "def top30(monogram,bigram,trigram):\n    print(\"Monogram\")\n    for key,val in monogram.items():\n        print(key + \" : \"+ str(val))\n        \n    print(\"\\n Bigram\")\n    count = 0\n    for key,val in bigram.items():\n        if count < 30:\n            print(key + \" : \"+ str(val))\n            count = count +1\n            \n    print(\"\\n Trigram\")\n    count = 0\n    for key,val in trigram.items():\n        if count<30:\n            print(key + \" : \"+ str(val))\n            count = count+1",
      "metadata": {
        "trusted": true
      },
      "execution_count": 11,
      "outputs": []
    },
    {
      "cell_type": "markdown",
      "source": "### Analyzing the first input",
      "metadata": {}
    },
    {
      "cell_type": "markdown",
      "source": "The file input_1.txt contains the following text - \n\" Think it no more;\nFor nature, crescent, does not grow alone\nIn thews and bulk, but, as this temple waxes,\nThe inward service of the mind and soul\nGrows wide withal. Perhaps he loves you now,\nAnd now no soil nor cautel doth besmirch\nThe virtue of his will: but you must fear,\nHis greatness weigh'd, his will is not his own;\nFor he himself is subject to his birth:\nHe may not, as unvalued persons do,\nCarve for himself; for on his choice depends\nThe safety and health of this whole state;\nAnd therefore must his choice be circumscribed\nUnto the voice and yielding of that body\nWhereof he is the head. Then if he says he loves you,\nIt fits your wisdom so far to believe it\nAs he in his particular act and place\nMay give his saying deed; which is no further\nThan the main voice of Denmark goes withal.\nThen weigh what loss your honour may sustain,\nIf with too credent ear you list his songs,\nOr lose your heart, or your chaste treasure open\nTo his unmaster'd importunity.\nFear it, Ophelia, fear it, my dear sister,\nAnd keep you in the rear of your affection,\nOut of the shot and danger of desire.\nThe chariest maid is prodigal enough,\nIf she unmask her beauty to the moon:\nVirtue itself 'scapes not calumnious strokes:\nThe canker galls the infants of the spring,\nToo oft before their buttons be disclosed,\nAnd in the morn and liquid dew of youth\nContagious blastments are most imminent.\nBe wary then; best safety lies in fear:\nYouth to itself rebels, though none else near.\"",
      "metadata": {}
    },
    {
      "cell_type": "markdown",
      "source": "",
      "metadata": {}
    },
    {
      "cell_type": "code",
      "source": "#read the input from a file\nmonogram1 = {}\nbigram1 = {}\ntrigram1 = {}\nfile_input = open(\"input_1.txt\",\"rb\")\nmonogram1 = calculate(file_input,1,monogram1)\nbigram1 = calculate(file_input,2,bigram1)\ntrigram1 = calculate(file_input,3,trigram1)\ntop30(monogram1,bigram1,trigram1)\nfile_input.close()",
      "metadata": {},
      "execution_count": 4,
      "outputs": [
        {
          "name": "stdout",
          "output_type": "stream",
          "text": "Monogram\n\ne : 136\n\nt : 95\n\nn : 89\n\no : 85\n\na : 76\n\ns : 74\n\ni : 74\n\nr : 72\n\nh : 58\n\nd : 57\n\nu : 50\n\nl : 42\n\nm : 35\n\nc : 33\n\ng : 26\n\nf : 26\n\ny : 23\n\nw : 17\n\np : 13\n\nb : 12\n\nk : 8\n\nz : 7\n\nq : 5\n\nv : 4\n\nj : 2\n\nx : 1\n\n\n\nBigram\n\nhe : 13\n\nin : 11\n\nan : 11\n\nen : 10\n\nhi : 10\n\non : 9\n\nnt : 9\n\nse : 8\n\nst : 8\n\ner : 7\n\nro : 7\n\nof : 7\n\nte : 6\n\nar : 6\n\nto : 6\n\nel : 5\n\nra : 5\n\nnd : 5\n\nis : 5\n\nth : 5\n\nge : 5\n\nee : 5\n\nud : 4\n\niu : 4\n\nue : 4\n\nnc : 4\n\nat : 4\n\nso : 4\n\nay : 4\n\nur : 4\n\n\n\nTrigram\n\nhim : 6\n\nthe : 5\n\ning : 4\n\nros : 4\n\nenc : 4\n\nran : 4\n\naud : 3\n\nius : 3\n\nuee : 3\n\nert : 3\n\nrud : 3\n\nsen : 3\n\ncra : 3\n\nntz : 3\n\nand : 3\n\nact : 2\n\nnte : 2\n\nyou : 2\n\nfro : 2\n\nall : 2\n\ncon : 2\n\nfes : 2\n\nhat : 2\n\nwit : 2\n\nhis : 2\n\nild : 2\n\nens : 2\n\nter : 2\n\nuch : 2\n\nnig : 2\n"
        }
      ]
    },
    {
      "cell_type": "markdown",
      "source": "### Analysing the second input",
      "metadata": {}
    },
    {
      "cell_type": "markdown",
      "source": "input_2.txt contains the following text - \n\" Think it no more;\nFor nature, crescent, does not grow alone\nIn thews and bulk, but, as this temple waxes,\nThe inward service of the mind and soul\nGrows wide withal. Perhaps he loves you now,\nAnd now no soil nor cautel doth besmirch\nThe virtue of his will: but you must fear,\nHis greatness weigh'd, his will is not his own;\nFor he himself is subject to his birth:\nHe may not, as unvalued persons do,\nCarve for himself; for on his choice depends\nThe safety and health of this whole state;\nAnd therefore must his choice be circumscribed\nUnto the voice and yielding of that body\nWhereof he is the head. Then if he says he loves you,\nIt fits your wisdom so far to believe it\nAs he in his particular act and place\nMay give his saying deed; which is no further\nThan the main voice of Denmark goes withal.\nThen weigh what loss your honour may sustain,\nIf with too credent ear you list his songs,\nOr lose your heart, or your chaste treasure open\nTo his unmaster'd importunity.\nFear it, Ophelia, fear it, my dear sister,\nAnd keep you in the rear of your affection,\nOut of the shot and danger of desire.\nThe chariest maid is prodigal enough,\nIf she unmask her beauty to the moon:\nVirtue itself 'scapes not calumnious strokes:\nThe canker galls the infants of the spring,\nToo oft before their buttons be disclosed,\nAnd in the morn and liquid dew of youth\nContagious blastments are most imminent.\nBe wary then; best safety lies in fear:\nYouth to itself rebels, though none else near. \"",
      "metadata": {}
    },
    {
      "cell_type": "code",
      "source": "monogram2 = {}\nbigram2 = {}\ntrigram2 = {}\nfile_input1 = open(\"input_2.txt\",\"rb\")\nmonogram2 = calculate(file_input1,1,monogram2)\nbigram2 = calculate(file_input1,2,bigram2)\ntrigram2 = calculate(file_input1,3,trigram2)\nprintFirst30NonZeroValues(monogram2,bigram2,trigram2)\nfile_input.close()",
      "metadata": {},
      "execution_count": 5,
      "outputs": [
        {
          "name": "stdout",
          "output_type": "stream",
          "text": "Monogram\n\ne : 132\n\nt : 106\n\nn : 92\n\no : 87\n\ns : 81\n\nh : 81\n\na : 79\n\ni : 76\n\nr : 74\n\nl : 54\n\nd : 46\n\nw : 42\n\nc : 41\n\nf : 28\n\nu : 27\n\nm : 24\n\ng : 20\n\ny : 18\n\nb : 16\n\nv : 10\n\np : 7\n\nk : 5\n\nq : 1\n\n\n\nBigram\n\nhe : 20\n\nth : 15\n\now : 13\n\ner : 13\n\nwn : 12\n\nan : 11\n\nst : 9\n\nnd : 8\n\nen : 7\n\nlo : 7\n\nis : 7\n\nat : 7\n\non : 7\n\nre : 7\n\nha : 7\n\nes : 6\n\ndr : 6\n\nse : 6\n\nhi : 6\n\nar : 5\n\ncl : 5\n\nir : 5\n\nin : 5\n\nti : 5\n\nel : 5\n\nit : 5\n\nac : 4\n\nwi : 4\n\nbe : 4\n\nia : 4\n\n\n\nTrigram\n\nown : 8\n\nthe : 7\n\ndro : 5\n\nlow : 4\n\nclo : 4\n\nman : 4\n\nirs : 3\n\nher : 3\n\neco : 3\n\nshe : 3\n\nhat : 3\n\ners : 3\n\nhim : 3\n\nent : 2\n\nwit : 2\n\npad : 2\n\nbur : 2\n\nied : 2\n\nris : 2\n\ntia : 2\n\nuri : 2\n\ntha : 2\n\nwil : 2\n\nore : 2\n\nave : 2\n\nelf : 2\n\nend : 2\n\nlie : 2\n\nood : 2\n\nrst : 2\n"
        }
      ]
    },
    {
      "cell_type": "markdown",
      "source": "#### c) When comparing the two sets of frequencies shown above, we can see that irrespective of frequency, the order of most of the single letters remains the same, may be because we only have 26 letters, but for bigrams or trigrams, only the high frequency values have similar patternand only some of the low frequency values are similar as the number of combinations for bigrams and trigrams is significantly larger than 26.\nNow the frequencies of single letter, bigrams and trigrams for the given ‘cipher text’ is as shown below:\n",
      "metadata": {}
    },
    {
      "cell_type": "markdown",
      "source": "#### Reading in the cipher text to decrypt.",
      "metadata": {}
    },
    {
      "cell_type": "code",
      "source": "monogram3 = {}\nbigram3 = {}\ntrigram3 = {}\nfile_input2 = open(\"cipher.txt\",\"rb\")\nmonogram3 = calculate(file_input2,1,monogram3)\nbigram3 = calculate(file_input2,2,bigram3)\ntrigram3 = calculate(file_input2,3,trigram3)\nprintFirst30NonZeroValues(monogram2,bigram2,trigram2)",
      "metadata": {},
      "execution_count": 12,
      "outputs": [
        {
          "name": "stdout",
          "output_type": "stream",
          "text": "Monogram\n\ne : 132\n\nt : 106\n\nn : 92\n\no : 87\n\ns : 81\n\nh : 81\n\na : 79\n\ni : 76\n\nr : 74\n\nl : 54\n\nd : 46\n\nw : 42\n\nc : 41\n\nf : 28\n\nu : 27\n\nm : 24\n\ng : 20\n\ny : 18\n\nb : 16\n\nv : 10\n\np : 7\n\nk : 5\n\nq : 1\n\n\n\nBigram\n\nhe : 20\n\nth : 15\n\now : 13\n\ner : 13\n\nwn : 12\n\nan : 11\n\nst : 9\n\nnd : 8\n\nen : 7\n\nlo : 7\n\nis : 7\n\nat : 7\n\non : 7\n\nre : 7\n\nha : 7\n\nes : 6\n\ndr : 6\n\nse : 6\n\nhi : 6\n\nar : 5\n\ncl : 5\n\nir : 5\n\nin : 5\n\nti : 5\n\nel : 5\n\nit : 5\n\nac : 4\n\nwi : 4\n\nbe : 4\n\nia : 4\n\n\n\nTrigram\n\nown : 8\n\nthe : 7\n\ndro : 5\n\nlow : 4\n\nclo : 4\n\nman : 4\n\nirs : 3\n\nher : 3\n\neco : 3\n\nshe : 3\n\nhat : 3\n\ners : 3\n\nhim : 3\n\nent : 2\n\nwit : 2\n\npad : 2\n\nbur : 2\n\nied : 2\n\nris : 2\n\ntia : 2\n\nuri : 2\n\ntha : 2\n\nwil : 2\n\nore : 2\n\nave : 2\n\nelf : 2\n\nend : 2\n\nlie : 2\n\nood : 2\n\nrst : 2\n"
        }
      ]
    },
    {
      "cell_type": "code",
      "source": "temp_dict={}\nfor key in monogram3.keys():\n    for key1 in monogram1.keys():\n        if list(monogram3.keys()).index(key) == list(monogram1.keys()).index(key1):\n            temp_dict[key1] = key",
      "metadata": {},
      "execution_count": 7,
      "outputs": []
    },
    {
      "cell_type": "code",
      "source": "temp_dict = dict(sorted(temp_dict.items(),key= lambda char: char[1],reverse = True))\ntemp_dict",
      "metadata": {},
      "execution_count": 8,
      "outputs": [
        {
          "execution_count": 8,
          "output_type": "execute_result",
          "data": {
            "text/plain": [
              "{'x': 'z',\n",
              " 'm': 'y',\n",
              " 'e': 'x',\n",
              " 'l': 'w',\n",
              " 'd': 'v',\n",
              " 'y': 'u',\n",
              " 't': 't',\n",
              " 'j': 's',\n",
              " 'i': 'r',\n",
              " 'k': 'q',\n",
              " 'a': 'p',\n",
              " 'q': 'o',\n",
              " 'h': 'n',\n",
              " 'o': 'm',\n",
              " 'g': 'l',\n",
              " 'v': 'k',\n",
              " 'n': 'j',\n",
              " 'f': 'i',\n",
              " 'w': 'h',\n",
              " 'u': 'g',\n",
              " 'p': 'f',\n",
              " 'b': 'e',\n",
              " 'z': 'd',\n",
              " 's': 'c',\n",
              " 'r': 'b',\n",
              " 'c': 'a'}"
            ]
          },
          "metadata": {}
        }
      ]
    },
    {
      "cell_type": "markdown",
      "source": "By mapping the output of the text frequency from previous two texts with the Cipher text then we can decrypt the given cipher text into plain text. \n\nHere in the left the ‘x’ is mapped to ‘e’, ‘t’ to ‘o’ and so on. By mapping these when we decrypt the cipher then we get:\n\nro tne sawe nifl yawe ciltn crouels ic a wao's naoh, aoh mlite ikel auarost tne yaohdestryg fvio tne vdastel ic tne madd ic tne grou's vadaye; aoh tne grou sam tne valt ic tne naoh tnat mlite. tneo tne grou's yifoteoaoye mas ynaoueh, aoh nrs tnifunts tlifpdeh nrw, si tnat tne xirots ic nrs diros mele diiseh, aoh nrs goees swite ioe auarost aoitnel. tne grou ylreh adifh ti plrou ro tne astlidiuels, tne ynadheaos, aoh tne siitnsabels. aoh tne grou svage, aoh sarh ti tne mrse weo ic papbdio, mnisiekel snadd leah tnrs mlrtrou, aoh snim we tne rotelvletatrio tneleic, snadd pe yditneh mrtn syaldet, aoh nake a ynaro ic uidh apift nrs oeyg, aoh snadd pe tne tnrlh lfdel ro tne grouhiw. tneo yawe ro add tne grou's mrse weo; pft tneb yifdh oit leah tne mlrtrou, oil wage goimo ti tne grou tne rotelvletatrio tneleic. tneo mas grou pedsnaqqal uleatdb tlifpdeh, aoh nrs yifoteoaoye mas ynaoueh ro nrw, aoh nrs dilhs mele astiorsneh. oim tne zfeeo, pb leasio ic tne milhs ic tne grou aoh nrs dilhs, yawe roti tne paozfet nifse; aoh tne zfeeo svage aoh sarh, i grou, drke cilekel; det oit tnb tnifunts tlifpde tnee, oil det tnb yifoteoaoye pe ynaoueh; tnele rs a wao ro tnb grouhiw, ro mniw rs tne svrlrt ic tne nidb uihs; aoh ro tne habs ic tnb mrshiw ic tne uihs, mas cifoh ro nrw; mniw tne grou oepfynahoeqqal tnb catnel, tne grou, r sab, tnb catnel, wahe wastel ic tne wauryraos, astlidiuels, ynadheaos, aoh siitnsabels; cilaswfyn as ao ejyeddeot svrlrt, aoh goimdehue, aoh fohelstaohrou, rotelvletrou ic hleaws, aoh snimrou ic nalh seoteoyes, aoh hrssidkrou ic hifpts, mele cifoh ro tne\nsawe haored, mniw tne grou oaweh pedtesnaqqal; oim det haored pe yaddeh, aoh ne mrdd snim tne rotelvletatrio.\nIn the above text, “tne” should be “the”, “mas” should be“was”, and “ic” should be “is”Then after making necessary corrections in our mapping when we again decrypt the cipher text, we get the output as \nio the sawe hifl yawe silth siouels is a wao's haoh, aoh wlite ikel auaiost the yaohdestiyg fvio the vdastel is the wadd is the giou's vadaye; aoh the giou saw the valt is the haoh that wlite. Theo the giou's yifoteoaoye was yhaoueh, aoh his thifuhts tlifpdeh hiw, si that the xiiots is his diios wele diiseh, aoh his goees swite ioe auaiost aoithel. the giou ylieh adifh ti pliou io the astlidiuels, the yhadheaos, aoh the siithsabels. aoh the giou svage, aoh saih ti the wise weo is papbdio, whisiekel shadd leah this wlitiou, aoh shiw we the iotelvletatiio theleis, shadd pe yditheh with syaldet, aoh hake a yhaio is uidh apift his oeyg, aoh shadd pe the thilh lfdel io the giouhiw. theo yawe io add the giou's wise weo; pft theb yifdh oit leah the wlitiou, oil wage goiwo ti the giou the iotelvletatiio theleis. theo was giou pedshaqqal uleatdb tlifpdeh, aoh his yifoteoaoye was yhaoueh io hiw, aoh his dilhs wele astioisheh. oiw the zfeeo, pb leasio is the wilhs is the giou aoh his dilhs, yawe ioti the paozfet hifse; aoh the zfeeo svage aoh saih, i giou, dike silekel; det oit thb thifuhts tlifpde thee, oil det thb yifoteoaoye pe yhaoueh; thele is a wao io thb giouhiw, io whiw is the svilit is the hidb uihs; aoh io the habs is thb wishiw is the uihs, was sifoh io hiw; whiw the giou oepfyhahoeqqal thb sathel, the giou, i sab, thb sathel,wahe wastel is the wauiyiaos, astlidiuels, yhadheaos, aoh siithsabels; silaswfyh as ao ejyeddeotsvilit, aoh goiwdehue, aoh fohelstaohiou, iotelvletiou is hleaws, aoh shiwiou is halh seoteoyes,aoh hissidkiou is hifpts, wele sifoh io the sawe haoied, whiw the giou oaweh pedteshaqqal; oiw det haoied pe yaddeh, aoh he widd shiw the iotelvletatiio.\n\nIn the above text, the “io” should be “in”, “sawe” should be “same”, “auaiost” should be\n“against”, and “aoh” should be “and”. After making the corections the decrypt message is:\n\n\nin the same hifl yame silth singels is a man's hand, and wlite ikel against the yanddestiyg fvin the vdastel is the wadd is the ging's vadaye; and the ging saw the valt is the hand that wlite.then the ging's yifntenanye was yhanged, and his thifghts tlifpded him, si that the xiints is his diins wele diised, and his gnees smite ine against anithel. the ging ylied adifd ti pling in the astlidigels, the yhaddeans, and the siithsabels. and the ging svage, and said ti the wise men is papbdin, whisiekel shadd lead this wliting, and shiw me the intelvletatiin theleis, shadd pe ydithed with syaldet, and hake a yhain is gidd apift his neyg, and shadd pe the thild lfdel in the gingdim. then yame in add the ging's wise men; pft theb yifdd nit lead the wliting, nil mage gniwn ti the ging the intelvletatiin theleis. then was ging pedshaqqal gleatdb tlifpded, and his yifntenanye was yhanged in him, and his dilds wele astinished. niw the zfeen, pb leasin is the wilds is the ging and his dilds, yame inti the panzfet hifse; and the zfeen svage and said, i ging, dike silekel; det nit thb thifghts tlifpde thee, nil det thb yifntenanye pe yhanged; thele is a man in thb gingdim, in whim is the svilit is the hidb gids; and in the dabs is thb wisdim is the gids, was sifnd in him; whim the ging nepfyhadneqqal thb sathel, the ging, i sab, thb sathel, made mastel is the magiyians, astlidigels, yhaddeans, and siithsabels; silasmfyh as an ejyeddent svilit, and gniwdedge, and fndelstanding, intelvleting is dleams, and shiwing is hald sentenyes, and dissidking is difpts, wele sifnd in the same danied, whim the ging named pedteshaqqal; niw det danied pe yadded, and he widd shiw the intelvletatiin.\n\nIn the above text, the “ging’s” should be “king’s”, “yhanged” should be “changed”, “thifghts” should be “thoughts”, and “si” should be “so”. After making the necessary corrections the decrypted text is:\n\nin the same hour came sorth singers os a man's hand, and wrote oker against the candlestick uvon the vlaster os the wall os the king's valace; and the king saw the vart os the hand that wrote. then the king's countenance was changed, and his thoughts troubled him, so that the xoints os his loins were loosed, and his knees smote one against another. the king cried aloud to bring in the astrologers, the chaldeans, and the soothsabers. and the king svake, and said to the wise men os babblon, whosoeker shall read this writing, and show me the intervretation thereos, shall be clothed with scarlet, and hake a chain os gold about his neck, and shall be the third ruler in the kingdom. then came in all the king's wise men; but theb could not read the writing, nor make known to the king the intervretation thereos. then was king belshaqqar greatlb troubled, and his countenance was changed in him, and his lords were astonished. now the zueen, bb reason os the words os the king and his lords, came into the banzuet house; and the zueen svake and said, o king, like soreker; let not thb thoughts trouble thee, nor let thb countenance be changed; there is a man in thb kingdom, in whom is the svirit os the holb gods; and in the dabs os thb wisdom os the gods, was sound in him; whom the king nebuchadneqqar thb sather, the king, i sab, thb sather, made master os the magicians, astrologers, chaldeans, and soothsabers; sorasmuch as an ejcellent svirit, and knowledge, and understanding,intervreting os dreams, and showing os hard sentences, and dissolking os doubts, were sound in the same daniel, whom the king named belteshaqqar; now let daniel be called, and he will show the intervretation.\n\nIn the above text, the “singers” should be “fingers”, “os” should be “of”, “oker” should be\n“over”, “valace” should be “palace”, “zueen” should be “queen”, “thb” should be “thy”,\n“belteshaqqar” as “Belteshazzar”, “ejcellent” should be “excellent”, and “xoints” should be\n“joints”. \nAfter making the necessary corrections the decrypted message is:\n\nin the same hour came forth fingers of a man's hand, and wrote over against the candlestick upon the plaster of the wall of the king's palace; and the king saw the part of the hand that wrote. then the king's countenance was changed, and his thoughts troubled him, so that the joints of his loins were loosed, and his knees smote one against another. the king cried aloud to bring in the astrologers, the chaldeans, and the soothsayers. and the king spake, and said to the wise men of babylon, whosoever shall read this writing, and show me the interpretation thereof, shall be clothed with scarlet, and have a chain of gold about his neck, and shall be the third ruler in the kingdom. then came in all the king's wise men; but they could not read the writing, nor make known to the king the interpretation thereof. then was king belshazzar greatly troubled, and his countenance was changed in him, and his lords were astonished. now the queen, by reason of the words of the king and his lords, came into the banquet house; and the queen spake and said, o king, live forever; let not thy thoughts trouble thee, nor let thy countenance be changed; there is a man in thy kingdom, in whom is the spirit of the holy gods; and in the days of thy wisdom of the gods, was found in him; whom the king nebuchadnezzar thy father, the king, i say, thy father, made master of the magicians, astrologers, chaldeans, and soothsayers; forasmuch as an excellent spirit, and knowledge, and understanding, interpreting of dreams, and showing of hard sentences, and dissolving of doubts, were found in the same daniel, whom the king named belteshazzar; now let daniel be called, and he will show the interpretation.\n\n\n\nConclusion:\nAs a result, we were able to successfully decrypt the provided cipher text after making some manual adjustments. Utilizing the two texts from the linked article's frequency analysis of individual letters and bigrams. The frequency analysis gave us the information required to guess the letters and decrypt the message.",
      "metadata": {}
    },
    {
      "cell_type": "code",
      "source": "",
      "metadata": {},
      "execution_count": null,
      "outputs": []
    }
  ]
}